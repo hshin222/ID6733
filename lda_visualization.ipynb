{
 "cells": [
  {
   "cell_type": "markdown",
   "metadata": {},
   "source": [
    "# Reading a CSV file via DictReader as a dict()"
   ]
  },
  {
   "cell_type": "code",
   "execution_count": 35,
   "metadata": {},
   "outputs": [],
   "source": [
    "from csv import DictReader\n",
    "\n",
    "\n",
    "def read_csv(file_name):\n",
    "    \n",
    "    rows = []\n",
    "    with open(file_name,'r',encoding = 'utf-8') as table:\n",
    "        \n",
    "        r = DictReader(table)\n",
    "        for line in r:\n",
    "            rows.append(line)\n",
    "    return rows"
   ]
  },
  {
   "cell_type": "code",
   "execution_count": 36,
   "metadata": {},
   "outputs": [],
   "source": [
    "file_name = 'news_bodies_1.csv' #the csv file name or directory\n",
    "dataset = read_csv(file_name)"
   ]
  },
  {
   "cell_type": "code",
   "execution_count": 37,
   "metadata": {},
   "outputs": [],
   "source": [
    "data_set = [data['articleBody'] for data in dataset] # the input to the vectorizer should be a list of documents"
   ]
  },
  {
   "cell_type": "markdown",
   "metadata": {},
   "source": [
    "# Topic Modeling using CountVectorizer and LDA"
   ]
  },
  {
   "cell_type": "code",
   "execution_count": 39,
   "metadata": {},
   "outputs": [],
   "source": [
    "import lda \n",
    "from sklearn.feature_extraction.text import CountVectorizer\n",
    "\n",
    "\n",
    "n_topics = 20 # the maximum number of topics to be considerd by LDA\n",
    "n_iter = 500 # number of iterations\n",
    "\n",
    "cvectorizer = CountVectorizer(min_df=5, stop_words='english')\n",
    "cvz = cvectorizer.fit_transform(data_set)"
   ]
  },
  {
   "cell_type": "code",
   "execution_count": 40,
   "metadata": {},
   "outputs": [
    {
     "name": "stderr",
     "output_type": "stream",
     "text": [
      "INFO:lda:n_documents: 904\n",
      "INFO:lda:vocab_size: 5230\n",
      "INFO:lda:n_words: 155948\n",
      "INFO:lda:n_topics: 20\n",
      "INFO:lda:n_iter: 500\n",
      "/home/nima/.local/lib/python3.5/site-packages/lda/utils.py:55: FutureWarning: Conversion of the second argument of issubdtype from `int` to `np.signedinteger` is deprecated. In future, it will be treated as `np.int64 == np.dtype(int).type`.\n",
      "  if sparse and not np.issubdtype(doc_word.dtype, int):\n",
      "INFO:lda:<0> log likelihood: -1930052\n",
      "INFO:lda:<10> log likelihood: -1287926\n",
      "INFO:lda:<20> log likelihood: -1240373\n",
      "INFO:lda:<30> log likelihood: -1220963\n",
      "INFO:lda:<40> log likelihood: -1209656\n",
      "INFO:lda:<50> log likelihood: -1203124\n",
      "INFO:lda:<60> log likelihood: -1197701\n",
      "INFO:lda:<70> log likelihood: -1194247\n",
      "INFO:lda:<80> log likelihood: -1192181\n",
      "INFO:lda:<90> log likelihood: -1189274\n",
      "INFO:lda:<100> log likelihood: -1187357\n",
      "INFO:lda:<110> log likelihood: -1185771\n",
      "INFO:lda:<120> log likelihood: -1183405\n",
      "INFO:lda:<130> log likelihood: -1181352\n",
      "INFO:lda:<140> log likelihood: -1179629\n",
      "INFO:lda:<150> log likelihood: -1178240\n",
      "INFO:lda:<160> log likelihood: -1177393\n",
      "INFO:lda:<170> log likelihood: -1177466\n",
      "INFO:lda:<180> log likelihood: -1176676\n",
      "INFO:lda:<190> log likelihood: -1176106\n",
      "INFO:lda:<200> log likelihood: -1175055\n",
      "INFO:lda:<210> log likelihood: -1174737\n",
      "INFO:lda:<220> log likelihood: -1174340\n",
      "INFO:lda:<230> log likelihood: -1173724\n",
      "INFO:lda:<240> log likelihood: -1173623\n",
      "INFO:lda:<250> log likelihood: -1173823\n",
      "INFO:lda:<260> log likelihood: -1174339\n",
      "INFO:lda:<270> log likelihood: -1173368\n",
      "INFO:lda:<280> log likelihood: -1173901\n",
      "INFO:lda:<290> log likelihood: -1172966\n",
      "INFO:lda:<300> log likelihood: -1173159\n",
      "INFO:lda:<310> log likelihood: -1173121\n",
      "INFO:lda:<320> log likelihood: -1172743\n",
      "INFO:lda:<330> log likelihood: -1172019\n",
      "INFO:lda:<340> log likelihood: -1171453\n",
      "INFO:lda:<350> log likelihood: -1171800\n",
      "INFO:lda:<360> log likelihood: -1171603\n",
      "INFO:lda:<370> log likelihood: -1172092\n",
      "INFO:lda:<380> log likelihood: -1171975\n",
      "INFO:lda:<390> log likelihood: -1171604\n",
      "INFO:lda:<400> log likelihood: -1171804\n",
      "INFO:lda:<410> log likelihood: -1171689\n",
      "INFO:lda:<420> log likelihood: -1171511\n",
      "INFO:lda:<430> log likelihood: -1171549\n",
      "INFO:lda:<440> log likelihood: -1171188\n",
      "INFO:lda:<450> log likelihood: -1171533\n",
      "INFO:lda:<460> log likelihood: -1170885\n",
      "INFO:lda:<470> log likelihood: -1171509\n",
      "INFO:lda:<480> log likelihood: -1171647\n",
      "INFO:lda:<490> log likelihood: -1170919\n",
      "INFO:lda:<499> log likelihood: -1171167\n"
     ]
    }
   ],
   "source": [
    "lda_model = lda.LDA(n_topics=n_topics,n_iter=n_iter)\n",
    "x_topics = lda_model.fit_transform(cvz)"
   ]
  },
  {
   "cell_type": "markdown",
   "metadata": {},
   "source": [
    "# Reducing the dimensions from 20 -> 2 using t-SNE"
   ]
  },
  {
   "cell_type": "code",
   "execution_count": 42,
   "metadata": {},
   "outputs": [
    {
     "name": "stdout",
     "output_type": "stream",
     "text": [
      "[t-SNE] Computing 91 nearest neighbors...\n",
      "[t-SNE] Indexed 904 samples in 0.001s...\n",
      "[t-SNE] Computed neighbors for 904 samples in 0.031s...\n",
      "[t-SNE] Computed conditional probabilities for sample 904 / 904\n",
      "[t-SNE] Mean sigma: 0.165059\n",
      "[t-SNE] KL divergence after 250 iterations with early exaggeration: 48.927460\n",
      "[t-SNE] KL divergence after 1000 iterations: 0.262631\n"
     ]
    }
   ],
   "source": [
    "from sklearn.manifold import TSNE\n",
    "\n",
    "tsne_model = TSNE (n_components = 2, verbose = 1, random_state = 0, angle = 0.99, init='pca')\n",
    "tsne_lda = tsne_model.fit_transform(x_topics)"
   ]
  },
  {
   "cell_type": "code",
   "execution_count": 44,
   "metadata": {},
   "outputs": [],
   "source": [
    "import numpy as np\n",
    "import bokeh.plotting as bp\n",
    "from bokeh.plotting import save\n",
    "from bokeh.models import HoverTool\n",
    "\n",
    "n_top_words = 5 # the number of representing words for each cluster of documents\n",
    "\n",
    "# 20 colors\n",
    "colormap = np.array([\n",
    "   \"#1f77b4\", \"#aec7e8\", \"#ff7f0e\", \"#ffbb78\", \"#2ca02c\",\n",
    "   \"#98df8a\", \"#d62728\", \"#ff9896\", \"#9467bd\", \"#c5b0d5\",\n",
    "   \"#8c564b\", \"#c49c94\", \"#e377c2\", \"#f7b6d2\", \"#7f7f7f\",\n",
    "   \"#c7c7c7\", \"#bcbd22\", \"#dbdb8d\", \"#17becf\", \"#9edae5\"\n",
    "])"
   ]
  },
  {
   "cell_type": "code",
   "execution_count": 46,
   "metadata": {},
   "outputs": [],
   "source": [
    "_lda_keys = []\n",
    "for i in range(x_topics.shape[0]):\n",
    " _lda_keys +=  x_topics[i].argmax(),"
   ]
  },
  {
   "cell_type": "code",
   "execution_count": 48,
   "metadata": {},
   "outputs": [],
   "source": [
    "topic_summaries = []\n",
    "topic_word = lda_model.topic_word_  # all topic words\n",
    "vocab = cvectorizer.get_feature_names()\n",
    "for i, topic_dist in enumerate(topic_word):\n",
    " topic_words = np.array(vocab)[np.argsort(topic_dist)][:-(n_top_words + 1):-1] # get!\n",
    " topic_summaries.append(' '.join(topic_words)) # append!"
   ]
  },
  {
   "cell_type": "code",
   "execution_count": 60,
   "metadata": {},
   "outputs": [
    {
     "data": {
      "text/html": [
       "<div style=\"display: table;\"><div style=\"display: table-row;\"><div style=\"display: table-cell;\"><b title=\"bokeh.models.renderers.GlyphRenderer\">GlyphRenderer</b>(</div><div style=\"display: table-cell;\">id&nbsp;=&nbsp;'1677', <span id=\"1680\" style=\"cursor: pointer;\">&hellip;)</span></div></div><div class=\"1679\" style=\"display: none;\"><div style=\"display: table-cell;\"></div><div style=\"display: table-cell;\">data_source&nbsp;=&nbsp;ColumnDataSource(id='1673', ...),</div></div><div class=\"1679\" style=\"display: none;\"><div style=\"display: table-cell;\"></div><div style=\"display: table-cell;\">glyph&nbsp;=&nbsp;Scatter(id='1675', ...),</div></div><div class=\"1679\" style=\"display: none;\"><div style=\"display: table-cell;\"></div><div style=\"display: table-cell;\">hover_glyph&nbsp;=&nbsp;None,</div></div><div class=\"1679\" style=\"display: none;\"><div style=\"display: table-cell;\"></div><div style=\"display: table-cell;\">js_event_callbacks&nbsp;=&nbsp;{},</div></div><div class=\"1679\" style=\"display: none;\"><div style=\"display: table-cell;\"></div><div style=\"display: table-cell;\">js_property_callbacks&nbsp;=&nbsp;{},</div></div><div class=\"1679\" style=\"display: none;\"><div style=\"display: table-cell;\"></div><div style=\"display: table-cell;\">level&nbsp;=&nbsp;'glyph',</div></div><div class=\"1679\" style=\"display: none;\"><div style=\"display: table-cell;\"></div><div style=\"display: table-cell;\">muted&nbsp;=&nbsp;False,</div></div><div class=\"1679\" style=\"display: none;\"><div style=\"display: table-cell;\"></div><div style=\"display: table-cell;\">muted_glyph&nbsp;=&nbsp;None,</div></div><div class=\"1679\" style=\"display: none;\"><div style=\"display: table-cell;\"></div><div style=\"display: table-cell;\">name&nbsp;=&nbsp;None,</div></div><div class=\"1679\" style=\"display: none;\"><div style=\"display: table-cell;\"></div><div style=\"display: table-cell;\">nonselection_glyph&nbsp;=&nbsp;Scatter(id='1676', ...),</div></div><div class=\"1679\" style=\"display: none;\"><div style=\"display: table-cell;\"></div><div style=\"display: table-cell;\">selection_glyph&nbsp;=&nbsp;None,</div></div><div class=\"1679\" style=\"display: none;\"><div style=\"display: table-cell;\"></div><div style=\"display: table-cell;\">subscribed_events&nbsp;=&nbsp;[],</div></div><div class=\"1679\" style=\"display: none;\"><div style=\"display: table-cell;\"></div><div style=\"display: table-cell;\">tags&nbsp;=&nbsp;[],</div></div><div class=\"1679\" style=\"display: none;\"><div style=\"display: table-cell;\"></div><div style=\"display: table-cell;\">view&nbsp;=&nbsp;CDSView(id='1678', ...),</div></div><div class=\"1679\" style=\"display: none;\"><div style=\"display: table-cell;\"></div><div style=\"display: table-cell;\">visible&nbsp;=&nbsp;True,</div></div><div class=\"1679\" style=\"display: none;\"><div style=\"display: table-cell;\"></div><div style=\"display: table-cell;\">x_range_name&nbsp;=&nbsp;'default',</div></div><div class=\"1679\" style=\"display: none;\"><div style=\"display: table-cell;\"></div><div style=\"display: table-cell;\">y_range_name&nbsp;=&nbsp;'default')</div></div></div>\n",
       "<script>\n",
       "(function() {\n",
       "  var expanded = false;\n",
       "  var ellipsis = document.getElementById(\"1680\");\n",
       "  ellipsis.addEventListener(\"click\", function() {\n",
       "    var rows = document.getElementsByClassName(\"1679\");\n",
       "    for (var i = 0; i < rows.length; i++) {\n",
       "      var el = rows[i];\n",
       "      el.style.display = expanded ? \"none\" : \"table-row\";\n",
       "    }\n",
       "    ellipsis.innerHTML = expanded ? \"&hellip;)\" : \"&lsaquo;&lsaquo;&lsaquo;\";\n",
       "    expanded = !expanded;\n",
       "  });\n",
       "})();\n",
       "</script>\n"
      ],
      "text/plain": [
       "GlyphRenderer(id='1677', ...)"
      ]
     },
     "execution_count": 60,
     "metadata": {},
     "output_type": "execute_result"
    }
   ],
   "source": [
    "title = 'news sample topics'\n",
    "num_example = len(x_topics)\n",
    "\n",
    "plot_lda = bp.figure(plot_width=1400, plot_height=1100,\n",
    "                    title=title,\n",
    "                    tools='pan,wheel_zoom,box_zoom,reset,hover,previewsave',\n",
    "                    x_axis_type=None, y_axis_type=None, min_border=1)\n",
    "\n",
    "\n",
    "ys=tsne_lda[:, 1]\n",
    "xs=tsne_lda[:, 0]\n",
    "source = bp.ColumnDataSource(data = dict(\n",
    "                x = xs,\n",
    "                y = ys,\n",
    "                color=colormap[_lda_keys][:num_example],\n",
    "                content = data_set[:num_example],\n",
    "                topic_key = _lda_keys[:num_example]\n",
    "                  ))\n",
    "plot_lda.scatter(x ='x',\n",
    "                 y ='y', \n",
    "                source=source,\n",
    "                color ='color')"
   ]
  },
  {
   "cell_type": "code",
   "execution_count": 61,
   "metadata": {},
   "outputs": [
    {
     "data": {
      "text/plain": [
       "'/home/nima/nima/stance_detection/fakenewschalllenge_baseline/fnc-1-baseline/news sample topics.html'"
      ]
     },
     "execution_count": 61,
     "metadata": {},
     "output_type": "execute_result"
    }
   ],
   "source": [
    "# randomly choose a news (within a topic) coordinate as the crucial words coordinate\n",
    "topic_coord = np.empty((x_topics.shape[1], 2)) * np.nan\n",
    "for topic_num in _lda_keys:\n",
    " if not np.isnan(topic_coord).any():\n",
    "   break\n",
    " topic_coord[topic_num] = tsne_lda[_lda_keys.index(topic_num)]\n",
    "\n",
    "# plot crucial words\n",
    "for i in range(x_topics.shape[1]):\n",
    " plot_lda.text(topic_coord[i, 0], topic_coord[i, 1], [topic_summaries[i]])\n",
    "\n",
    "# hover tools\n",
    "hover = plot_lda.select(dict(type=HoverTool))\n",
    "hover.tooltips = {\"content\": \"@content - topic: @topic_key\"}\n",
    "\n",
    "# save the plot\n",
    "save(plot_lda, '{}.html'.format(title))"
   ]
  },
  {
   "cell_type": "code",
   "execution_count": null,
   "metadata": {},
   "outputs": [],
   "source": []
  }
 ],
 "metadata": {
  "kernelspec": {
   "display_name": "Python 3",
   "language": "python",
   "name": "python3"
  },
  "language_info": {
   "codemirror_mode": {
    "name": "ipython",
    "version": 3
   },
   "file_extension": ".py",
   "mimetype": "text/x-python",
   "name": "python",
   "nbconvert_exporter": "python",
   "pygments_lexer": "ipython3",
   "version": "3.5.2"
  }
 },
 "nbformat": 4,
 "nbformat_minor": 2
}
